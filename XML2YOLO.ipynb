{
 "cells": [
  {
   "cell_type": "code",
   "execution_count": 2,
   "id": "5c885941",
   "metadata": {},
   "outputs": [],
   "source": [
    "import glob\n",
    "import os\n",
    "from os import getcwd"
   ]
  },
  {
   "cell_type": "code",
   "execution_count": null,
   "id": "b985e97a",
   "metadata": {},
   "outputs": [],
   "source": [
    "def readClass(class_dir):\n",
    "    classes = {}\n",
    "    f = open(class_dir, 'r')\n",
    "    data = f.readlines()\n",
    "    classNum = 0\n",
    "    for d in data:\n",
    "        classes[classNum] = d.replace('\\n', '')\n",
    "        classNum += 1\n",
    "    \n",
    "    return classes"
   ]
  },
  {
   "cell_type": "code",
   "execution_count": null,
   "id": "c35bd3ad",
   "metadata": {},
   "outputs": [],
   "source": [
    "# get all the images in img_path\n",
    "def getImagesInDir(img_path):\n",
    "    image_list = []\n",
    "    for filename in glob.glob(img_path + '/*.jpg'):\n",
    "        image_list.append(filename)\n",
    "\n",
    "    return image_list\n",
    "\n",
    "def convert(size, box):\n",
    "    dw = 1./(size[0])\n",
    "    dh = 1./(size[1])\n",
    "    x = (box[0] + box[1])/2.0 - 1\n",
    "    y = (box[2] + box[3])/2.0 - 1\n",
    "    w = box[1] - box[0]\n",
    "    h = box[3] - box[2]\n",
    "    x = x*dw\n",
    "    w = w*dw\n",
    "    y = y*dh\n",
    "    h = h*dh\n",
    "    return (x,y,w,h)\n",
    "\n",
    "# @xml_path: where all xml exists\n",
    "# @output_path: where you want to store output\n",
    "# @image_path: list generate from getImagesInDir()\n",
    "# @class_dir: dir of classes.names\n",
    "def convert_annotation(xml_path, output_path, image_path, class_dir):\n",
    "    basename = os.path.basename(image_path)\n",
    "    basename_no_ext = os.path.splitext(basename)[0]\n",
    "    classes = readClass(class_dir)\n",
    "    classes_val = list(classes.values())\n",
    "    classes_key = list(classes.keys())\n",
    "    \n",
    "    if os.path.exists(xml_path + '/' + basename_no_ext + '.xml'):\n",
    "        in_file = open(xml_path + '/' + basename_no_ext + '.xml')\n",
    "        out_file = open(output_path + basename_no_ext + '.txt', 'w')\n",
    "        tree = et.parse(in_file)\n",
    "        root = tree.getroot()\n",
    "        size = root.find('size')\n",
    "        w = int(size.find('width').text)\n",
    "        h = int(size.find('height').text)\n",
    "\n",
    "        for obj in root.iter('object'):\n",
    "            difficult = obj.find('difficult').text\n",
    "            cls = obj.find('name').text\n",
    "            if cls not in classes_val or int(difficult)==1:\n",
    "                continue\n",
    "            cls_id = classes_key[classes_val.index(cls)]\n",
    "            xmlbox = obj.find('bndbox')\n",
    "            b = (float(xmlbox.find('xmin').text), float(xmlbox.find('xmax').text), float(xmlbox.find('ymin').text), float(xmlbox.find('ymax').text))\n",
    "            bb = convert((w,h), b)\n",
    "            out_file.write(str(cls_id) + \" \" + \" \".join([str(a) for a in bb]) + '\\n')"
   ]
  }
 ],
 "metadata": {
  "kernelspec": {
   "display_name": "Python 3 (ipykernel)",
   "language": "python",
   "name": "python3"
  },
  "language_info": {
   "codemirror_mode": {
    "name": "ipython",
    "version": 3
   },
   "file_extension": ".py",
   "mimetype": "text/x-python",
   "name": "python",
   "nbconvert_exporter": "python",
   "pygments_lexer": "ipython3",
   "version": "3.9.5"
  }
 },
 "nbformat": 4,
 "nbformat_minor": 5
}
