{
 "cells": [
  {
   "cell_type": "code",
   "execution_count": null,
   "id": "623271a0",
   "metadata": {},
   "outputs": [],
   "source": [
    "import glob\n",
    "import os"
   ]
  },
  {
   "cell_type": "code",
   "execution_count": null,
   "id": "afb26650",
   "metadata": {},
   "outputs": [],
   "source": [
    "def readClass(class_dir):\n",
    "    classes = {}\n",
    "    f = open(class_dir, 'r')\n",
    "    data = f.readlines()\n",
    "    classNum = 0\n",
    "    for d in data:\n",
    "        classes[classNum] = d.replace('\\n', '')\n",
    "        classNum += 1\n",
    "    \n",
    "    return classes\n",
    "\n",
    "def getImagesInDir(dir_path):\n",
    "    image_list = []\n",
    "    for filename in glob.glob(dir_path + '/*.jpg'):\n",
    "        image_list.append(filename)\n",
    "\n",
    "    return image_list\n",
    "\n",
    "# @xml_path: where all xml exists\n",
    "# @output_path: where you want to store output\n",
    "# @image_path: list generate from getImagesInDir()\n",
    "# @class_dir: dir of classes.names\n",
    "def convert2PytorchYolo(xml_path, output_path, image_paths, class_dir):\n",
    "    out_file = open(output_path + 'yoloPytorch.txt', 'w')\n",
    "    classes = readClass(class_dir)\n",
    "    classes_val = list(classes.values())\n",
    "    classes_key = list(classes.keys())\n",
    "\n",
    "    for image_path in image_paths:\n",
    "        basename = os.path.basename(image_path)\n",
    "        basename_no_ext = os.path.splitext(basename)[0]\n",
    "\n",
    "        if os.path.exists(xml_path + '/' + basename_no_ext + '.xml'):\n",
    "            in_file = open(xml_path + '/' + basename_no_ext + '.xml')\n",
    "            tree = et.parse(in_file)\n",
    "            root = tree.getroot()\n",
    "            size = root.find('size')\n",
    "            w = int(size.find('width').text)\n",
    "            h = int(size.find('height').text)\n",
    "\n",
    "            for obj in root.iter('object'):\n",
    "                difficult = obj.find('difficult').text\n",
    "                cls = obj.find('name').text\n",
    "                if cls not in classes_val or int(difficult)==1:\n",
    "                    continue\n",
    "                cls_id = classes_key[classes_val.index(cls)] - 1\n",
    "                xmlbox = obj.find('bndbox')\n",
    "                out_file.write(image_path + basename + \" \" \n",
    "                               + xmlbox.find('xmin').text + \",\" + xmlbox.find('ymin').text + \",\" \n",
    "                               + xmlbox.find('xmax').text + \",\" + xmlbox.find('ymax').text + \",\" \n",
    "                               + str(cls_id))\n",
    "            out_file.write('\\n')\n",
    "    out_file.close()"
   ]
  }
 ],
 "metadata": {
  "kernelspec": {
   "display_name": "Python 3 (ipykernel)",
   "language": "python",
   "name": "python3"
  },
  "language_info": {
   "codemirror_mode": {
    "name": "ipython",
    "version": 3
   },
   "file_extension": ".py",
   "mimetype": "text/x-python",
   "name": "python",
   "nbconvert_exporter": "python",
   "pygments_lexer": "ipython3",
   "version": "3.9.5"
  }
 },
 "nbformat": 4,
 "nbformat_minor": 5
}
