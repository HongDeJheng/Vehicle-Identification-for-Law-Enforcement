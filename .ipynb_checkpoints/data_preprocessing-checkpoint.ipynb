{
 "cells": [
  {
   "cell_type": "code",
   "execution_count": 1,
   "id": "7722133c",
   "metadata": {},
   "outputs": [],
   "source": [
    "import numpy as np\n",
    "import cv2\n",
    "import scipy.io as sio\n",
    "from os import listdir, walk\n",
    "from os.path import isfile, join\n",
    "import math \n",
    "from xml.etree import ElementTree as et\n",
    "from xml.dom import minidom"
   ]
  },
  {
   "cell_type": "code",
   "execution_count": 2,
   "id": "3436e9bc",
   "metadata": {
    "scrolled": true
   },
   "outputs": [],
   "source": [
    "mat_data = sio.loadmat(\"./cars_annos.mat\")"
   ]
  },
  {
   "cell_type": "code",
   "execution_count": 3,
   "id": "f2bc271e",
   "metadata": {},
   "outputs": [],
   "source": [
    "classes = {}\n",
    "\n",
    "classNum = 0\n",
    "f = open('classes.names', 'w')\n",
    "for class_names in mat_data['class_names']:\n",
    "    for class_name in class_names:\n",
    "        classes[classNum] = class_name[0]\n",
    "        classNum += 1\n",
    "        f.write(class_name[0] + '\\n')"
   ]
  },
  {
   "cell_type": "code",
   "execution_count": 4,
   "id": "63dccf63",
   "metadata": {},
   "outputs": [
    {
     "name": "stdout",
     "output_type": "stream",
     "text": [
      "{0: 89, 1: 64, 2: 86, 3: 84, 4: 81, 5: 89, 6: 78, 7: 90, 8: 82, 9: 66, 10: 76, 11: 73, 12: 82, 13: 85, 14: 86, 15: 87, 16: 81, 17: 85, 18: 81, 19: 92, 20: 84, 21: 85, 22: 79, 23: 90, 24: 79, 25: 68, 26: 71, 27: 82, 28: 85, 29: 83, 30: 88, 31: 83, 32: 84, 33: 89, 34: 82, 35: 82, 36: 77, 37: 81, 38: 73, 39: 78, 40: 71, 41: 69, 42: 92, 43: 89, 44: 65, 45: 87, 46: 70, 47: 85, 48: 75, 49: 84, 50: 86, 51: 82, 52: 89, 53: 80, 54: 79, 55: 93, 56: 75, 57: 88, 58: 89, 59: 73, 60: 86, 61: 74, 62: 88, 63: 59, 64: 90, 65: 83, 66: 77, 67: 80, 68: 76, 69: 85, 70: 70, 71: 90, 72: 89, 73: 87, 74: 88, 75: 87, 76: 81, 77: 75, 78: 97, 79: 86, 80: 90, 81: 90, 82: 81, 83: 84, 84: 87, 85: 85, 86: 88, 87: 79, 88: 88, 89: 82, 90: 77, 91: 80, 92: 78, 93: 87, 94: 91, 95: 82, 96: 84, 97: 92, 98: 55, 99: 67, 100: 84, 101: 78, 102: 79, 103: 85, 104: 87, 105: 83, 106: 89, 107: 88, 108: 89, 109: 86, 110: 84, 111: 91, 112: 85, 113: 90, 114: 90, 115: 75, 116: 85, 117: 83, 118: 136, 119: 85, 120: 89, 121: 80, 122: 89, 123: 78, 124: 87, 125: 84, 126: 82, 127: 78, 128: 77, 129: 82, 130: 84, 131: 87, 132: 84, 133: 67, 134: 84, 135: 48, 136: 87, 137: 79, 138: 85, 139: 84, 140: 68, 141: 65, 142: 80, 143: 93, 144: 88, 145: 86, 146: 89, 147: 90, 148: 85, 149: 72, 150: 87, 151: 71, 152: 89, 153: 85, 154: 85, 155: 78, 156: 73, 157: 58, 158: 72, 159: 88, 160: 96, 161: 91, 162: 73, 163: 87, 164: 89, 165: 82, 166: 95, 167: 84, 168: 77, 169: 88, 170: 92, 171: 88, 172: 87, 173: 82, 174: 61, 175: 77, 176: 88, 177: 83, 178: 90, 179: 85, 180: 76, 181: 92, 182: 84, 183: 81, 184: 77, 185: 77, 186: 87, 187: 87, 188: 81, 189: 86, 190: 92, 191: 85, 192: 83, 193: 91, 194: 86, 195: 80}\n"
     ]
    }
   ],
   "source": [
    "count = {}\n",
    "for attrs in mat_data['annotations']:\n",
    "    for attr in attrs:\n",
    "        classnum = int(attr[5][0][0])\n",
    "        if classnum - 1 in count.keys():\n",
    "            count[classnum - 1] += 1\n",
    "        else:\n",
    "            count[classnum - 1] = 1\n",
    "            \n",
    "print(count)"
   ]
  },
  {
   "cell_type": "code",
   "execution_count": 14,
   "id": "d9cb88c7",
   "metadata": {},
   "outputs": [],
   "source": [
    "filepath = '../car_ims/'\n",
    "\n",
    "for attrs in mat_data['annotations']:\n",
    "    for attr in attrs:\n",
    "        filename = attr[0][0].split('/')[1]\n",
    "        bbox_x1 = attr[1][0][0]\n",
    "        bbox_y1 = attr[2][0][0]\n",
    "        bbox_x2 = attr[3][0][0]\n",
    "        bbox_y2 = attr[4][0][0]\n",
    "        classnum = int(attr[5][0][0]) - 1\n",
    "\n",
    "        root = et.Element('annotation')\n",
    "        tree = et.ElementTree(root) # Create a XML tree with root as 'annotation'\n",
    "\n",
    "        #Create an element folder\n",
    "        folder = et.Element('folder')\n",
    "        folder.text = filepath\n",
    "        root.append(folder)\n",
    "\n",
    "        #Add filename\n",
    "        filename_node = et.Element('filename')\n",
    "        filename_node.text = filename\n",
    "        root.append(filename_node)\n",
    "\n",
    "        #Add filepath\n",
    "        filepath_node = et.Element('path')\n",
    "        filepath_node.text = filepath + filename\n",
    "        root.append(filepath_node)\n",
    "        \n",
    "        #Add source\n",
    "        source_node = et.Element('source')\n",
    "        database_node = et.Element('database')\n",
    "        database_node.text = 'Unknown'\n",
    "        source_node.append(database_node)\n",
    "        root.append(source_node)\n",
    "\n",
    "        # Node for the size of the image\n",
    "        img_size = cv2.imread(filepath_node.text.replace('../', './')).shape\n",
    "        size_node = et.Element('size')\n",
    "\n",
    "        width_node = et.Element('width')\n",
    "        width_node.text = str(img_size[0])\n",
    "        size_node.append(width_node)\n",
    "\n",
    "        height_node = et.Element('height')\n",
    "        height_node.text = str(img_size[1])\n",
    "        size_node.append(height_node)\n",
    "\n",
    "        depth_node = et.Element('depth')\n",
    "        depth_node.text = str(img_size[2])\n",
    "        size_node.append(depth_node)\n",
    "        root.append(size_node)\n",
    "\n",
    "        #Add segmented node\n",
    "        segmented_node = et.Element('segmented')\n",
    "        segmented_node.text = '0'\n",
    "        root.append(segmented_node)\n",
    "\n",
    "        #Add the objects\n",
    "        hand_node = et.Element('object')\n",
    "\n",
    "        name_node = et.Element('name')\n",
    "        name_node.text = classes[classnum]\n",
    "        hand_node.append(name_node)\n",
    "\n",
    "        pose_node = et.Element('pose')\n",
    "        pose_node.text = 'Unspecified'\n",
    "        hand_node.append(pose_node)\n",
    "\n",
    "        truncated_node = et.Element('truncated')\n",
    "        truncated_node.text = '0'\n",
    "        hand_node.append(truncated_node)\n",
    "\n",
    "        difficult_node = et.Element('difficult')\n",
    "        difficult_node.text = '0'\n",
    "        hand_node.append(difficult_node)\n",
    "\n",
    "        bbox_node = et.Element('bndbox')\n",
    "        xmin_node = et.Element('xmin')\n",
    "        xmin_node.text = '{0:.2f}'.format(bbox_x1)\n",
    "        bbox_node.append(xmin_node)\n",
    "\n",
    "        ymin_node = et.Element('ymin')\n",
    "        ymin_node.text = '{0:.2f}'.format(bbox_y1)\n",
    "        bbox_node.append(ymin_node)\n",
    "\n",
    "        xmax_node = et.Element('xmax')\n",
    "        xmax_node.text = '{0:.2f}'.format(bbox_x2)\n",
    "        bbox_node.append(xmax_node)\n",
    "\n",
    "        ymax_node = et.Element('ymax')\n",
    "        ymax_node.text = '{0:.2f}'.format(bbox_y2)\n",
    "        bbox_node.append(ymax_node)\n",
    "\n",
    "        hand_node.append(bbox_node)\n",
    "        root.append(hand_node)\n",
    "\n",
    "        rough_xml = et.tostring(root, 'utf-8')\n",
    "        rough_xml = minidom.parseString(rough_xml)\n",
    "        pretty_xml = rough_xml.toprettyxml()\n",
    "        #print(pretty_xml)\n",
    "\n",
    "        # Save the XML file \n",
    "        xml_path = join('./bbox/xml/', filename.replace(\"jpg\", \"xml\"))\n",
    "        with open(xml_path, 'w') as xml_file:\n",
    "            xml_file.write(pretty_xml)"
   ]
  },
  {
   "cell_type": "code",
   "execution_count": 7,
   "id": "86d49f0d",
   "metadata": {},
   "outputs": [],
   "source": [
    "import glob\n",
    "import os\n",
    "from os import getcwd\n",
    "\n",
    "def getImagesInDir(dir_path):\n",
    "    image_list = []\n",
    "    for filename in glob.glob(dir_path + '/*.jpg'):\n",
    "        image_list.append(filename)\n",
    "\n",
    "    return image_list\n",
    "\n",
    "def convert(size, box):\n",
    "    dw = 1./(size[0])\n",
    "    dh = 1./(size[1])\n",
    "    x = (box[0] + box[1])/2.0 - 1\n",
    "    y = (box[2] + box[3])/2.0 - 1\n",
    "    w = box[1] - box[0]\n",
    "    h = box[3] - box[2]\n",
    "    x = x*dw\n",
    "    w = w*dw\n",
    "    y = y*dh\n",
    "    h = h*dh\n",
    "    return (x,y,w,h)\n",
    "\n",
    "def convert_annotation(dir_path, output_path, image_path):\n",
    "    basename = os.path.basename(image_path)\n",
    "    basename_no_ext = os.path.splitext(basename)[0]\n",
    "    \n",
    "    if os.path.exists(dir_path + '/' + basename_no_ext + '.xml'):\n",
    "        in_file = open(dir_path + '/' + basename_no_ext + '.xml')\n",
    "        out_file = open(output_path + basename_no_ext + '.txt', 'w')\n",
    "        tree = et.parse(in_file)\n",
    "        root = tree.getroot()\n",
    "        size = root.find('size')\n",
    "        w = int(size.find('width').text)\n",
    "        h = int(size.find('height').text)\n",
    "\n",
    "        for obj in root.iter('object'):\n",
    "            difficult = obj.find('difficult').text\n",
    "            cls = obj.find('name').text\n",
    "            if cls not in classes_val or int(difficult)==1:\n",
    "                continue\n",
    "            cls_id = classes_key[classes_val.index(cls)]\n",
    "            xmlbox = obj.find('bndbox')\n",
    "            b = (float(xmlbox.find('xmin').text), float(xmlbox.find('xmax').text), float(xmlbox.find('ymin').text), float(xmlbox.find('ymax').text))\n",
    "            bb = convert((w,h), b)\n",
    "            out_file.write(str(cls_id) + \" \" + \" \".join([str(a) for a in bb]) + '\\n')"
   ]
  },
  {
   "cell_type": "code",
   "execution_count": null,
   "id": "271fd98d",
   "metadata": {},
   "outputs": [],
   "source": [
    "cwd = getcwd()\n",
    "dir_path = './bbox/xml/'\n",
    "img_path = './car_ims'\n",
    "classes_val = list(classes.values())\n",
    "classes_key = list(classes.keys())\n",
    "\n",
    "output_path = './bbox/yolo/'\n",
    "\n",
    "image_paths = getImagesInDir(img_path)\n",
    "list_file = open('lists.txt', 'w')\n",
    "\n",
    "for image_path in image_paths:\n",
    "    list_file.write(image_path + '\\n')\n",
    "    convert_annotation(dir_path, output_path, image_path)\n",
    "list_file.close()"
   ]
  },
  {
   "cell_type": "code",
   "execution_count": 5,
   "id": "099c800f",
   "metadata": {},
   "outputs": [],
   "source": [
    "def convert2PytorchYolo(dir_path, output_path, image_paths):\n",
    "    out_file = open(output_path + 'yoloPytorch.txt', 'w')\n",
    "\n",
    "    for image_path in image_paths:\n",
    "        basename = os.path.basename(image_path)\n",
    "        basename_no_ext = os.path.splitext(basename)[0]\n",
    "\n",
    "        if os.path.exists(dir_path + '/' + basename_no_ext + '.xml'):\n",
    "            in_file = open(dir_path + '/' + basename_no_ext + '.xml')\n",
    "            tree = et.parse(in_file)\n",
    "            root = tree.getroot()\n",
    "            size = root.find('size')\n",
    "            w = int(size.find('width').text)\n",
    "            h = int(size.find('height').text)\n",
    "\n",
    "            for obj in root.iter('object'):\n",
    "                difficult = obj.find('difficult').text\n",
    "                cls = obj.find('name').text\n",
    "                if cls not in classes_val or int(difficult)==1:\n",
    "                    continue\n",
    "                cls_id = classes_key[classes_val.index(cls)]\n",
    "                xmlbox = obj.find('bndbox')\n",
    "                out_file.write('/home/h5cheng/ECE228/Final_Project/car_ims/'+ basename + \" \" \n",
    "                               + xmlbox.find('xmin').text + \",\" + xmlbox.find('ymin').text + \",\" \n",
    "                               + xmlbox.find('xmax').text + \",\" + xmlbox.find('ymax').text + \",\" \n",
    "                               + str(cls_id))\n",
    "            out_file.write('\\n')\n",
    "    out_file.close()"
   ]
  },
  {
   "cell_type": "code",
   "execution_count": 8,
   "id": "eceb7611",
   "metadata": {},
   "outputs": [],
   "source": [
    "dir_path = './bbox/xml/'\n",
    "img_path = './car_ims'\n",
    "output_path = './'\n",
    "classes_val = list(classes.values())\n",
    "classes_key = list(classes.keys())\n",
    "\n",
    "convert2PytorchYolo(dir_path, output_path, getImagesInDir(img_path))"
   ]
  },
  {
   "cell_type": "code",
   "execution_count": 10,
   "id": "da709f1f",
   "metadata": {},
   "outputs": [
    {
     "name": "stdout",
     "output_type": "stream",
     "text": [
      "12948\n",
      "3237\n"
     ]
    }
   ],
   "source": [
    "from sklearn.model_selection import train_test_split\n",
    "\n",
    "data = open('./yoloPytorch.txt').readlines()\n",
    "train, test = train_test_split(data, test_size = 0.2)\n",
    "print(len(train))\n",
    "print(len(test))\n",
    "\n",
    "sets = {'train': train, 'test': test}\n",
    "\n",
    "for _, (k, v) in enumerate(sets.items()):\n",
    "    filename = k + '.txt'\n",
    "    f = open(filename, 'w')\n",
    "    for ele in v:\n",
    "        f.write(ele)\n",
    "    f.close()"
   ]
  },
  {
   "cell_type": "code",
   "execution_count": 22,
   "id": "ea6b4640",
   "metadata": {},
   "outputs": [],
   "source": [
    "import shutil\n",
    "train_images = open('./train_80_20.txt').readlines()\n",
    "for img in train_images:\n",
    "    filename = os.path.basename(img).replace('\\n', '')\n",
    "    shutil.copy(os.path.join(\"./car_ims/\", filename), os.path.join(\"./data_80_20/train/\", filename))\n",
    "    \n",
    "test_images = open('./test_80_20.txt').readlines()\n",
    "for img in test_images:\n",
    "    filename = os.path.basename(img).replace('\\n', '')\n",
    "    shutil.copy(os.path.join(\"./car_ims/\", filename), os.path.join(\"./data_80_20/test/\", filename))"
   ]
  },
  {
   "cell_type": "code",
   "execution_count": 23,
   "id": "e5eaf930",
   "metadata": {},
   "outputs": [
    {
     "name": "stdout",
     "output_type": "stream",
     "text": [
      "Defaulting to user installation because normal site-packages is not writeable\n",
      "\u001b[33mWARNING: Ignoring invalid distribution -illow (/home/h5cheng/.local/lib/python3.9/site-packages)\u001b[0m\n",
      "\u001b[33mWARNING: Ignoring invalid distribution -illow (/home/h5cheng/.local/lib/python3.9/site-packages)\u001b[0m\n",
      "Collecting numpy==1.18.2\n",
      "  Downloading numpy-1.18.2.zip (5.4 MB)\n",
      "\u001b[K     |████████████████████████████████| 5.4 MB 15.4 MB/s eta 0:00:01     |███████████                     | 1.9 MB 15.4 MB/s eta 0:00:01\n",
      "\u001b[?25h  Installing build dependencies ... \u001b[?25ldone\n",
      "\u001b[?25h  Getting requirements to build wheel ... \u001b[?25ldone\n",
      "\u001b[?25h    Preparing wheel metadata ... \u001b[?25ldone\n",
      "\u001b[31mERROR: Could not find a version that satisfies the requirement torch==1.4.0 (from versions: 1.7.1, 1.8.0, 1.8.1, 1.9.0, 1.9.1, 1.10.0, 1.10.1, 1.10.2, 1.11.0)\u001b[0m\n",
      "\u001b[31mERROR: No matching distribution found for torch==1.4.0\u001b[0m\n",
      "\u001b[33mWARNING: Ignoring invalid distribution -illow (/home/h5cheng/.local/lib/python3.9/site-packages)\u001b[0m\n",
      "\u001b[33mWARNING: Ignoring invalid distribution -illow (/home/h5cheng/.local/lib/python3.9/site-packages)\u001b[0m\n",
      "\u001b[33mWARNING: Ignoring invalid distribution -illow (/home/h5cheng/.local/lib/python3.9/site-packages)\u001b[0m\n",
      "\u001b[?25h"
     ]
    }
   ],
   "source": [
    "!pip install -r pytorch-YOLOv4/requirements.txt"
   ]
  },
  {
   "cell_type": "code",
   "execution_count": 24,
   "id": "378a1254",
   "metadata": {},
   "outputs": [
    {
     "name": "stdout",
     "output_type": "stream",
     "text": [
      "Traceback (most recent call last):\r\n",
      "  File \"/home/h5cheng/ECE228/Final Project/pytorch-YOLOv4/train.py\", line 29, in <module>\r\n",
      "    from easydict import EasyDict as edict\r\n",
      "ModuleNotFoundError: No module named 'easydict'\r\n"
     ]
    }
   ],
   "source": [
    "!python pytorch-YOLOv4/train.py -l 0.001 -g 0 -pretrained yolov4-tiny.conv.29 -classes 196 -dir data_80_20/train/"
   ]
  },
  {
   "cell_type": "code",
   "execution_count": null,
   "id": "3abb81e3",
   "metadata": {},
   "outputs": [],
   "source": []
  }
 ],
 "metadata": {
  "kernelspec": {
   "display_name": "Python 3 (ipykernel)",
   "language": "python",
   "name": "python3"
  },
  "language_info": {
   "codemirror_mode": {
    "name": "ipython",
    "version": 3
   },
   "file_extension": ".py",
   "mimetype": "text/x-python",
   "name": "python",
   "nbconvert_exporter": "python",
   "pygments_lexer": "ipython3",
   "version": "3.9.5"
  }
 },
 "nbformat": 4,
 "nbformat_minor": 5
}
