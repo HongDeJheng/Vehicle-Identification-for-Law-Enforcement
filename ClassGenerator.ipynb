{
 "cells": [
  {
   "cell_type": "code",
   "execution_count": null,
   "id": "0e330d7c",
   "metadata": {},
   "outputs": [],
   "source": [
    "import numpy as np\n",
    "import scipy.io as sio"
   ]
  },
  {
   "cell_type": "code",
   "execution_count": null,
   "id": "8c825875",
   "metadata": {},
   "outputs": [],
   "source": [
    "# generate classes name\n",
    "def mat2class(mat_dir, output_path):\n",
    "    mat_data = sio.loadmat(mat_dir)\n",
    "    classes = {}\n",
    "    classNum = 1\n",
    "    \n",
    "    f = open('classes.names', 'w')\n",
    "    for class_names in mat_data['class_names']:\n",
    "        for class_name in class_names:\n",
    "            classes[classNum] = class_name[0]\n",
    "            classNum += 1\n",
    "            f.write(class_name[0] + '\\n')\n",
    "    f.close()    "
   ]
  }
 ],
 "metadata": {
  "kernelspec": {
   "display_name": "Python 3 (ipykernel)",
   "language": "python",
   "name": "python3"
  },
  "language_info": {
   "codemirror_mode": {
    "name": "ipython",
    "version": 3
   },
   "file_extension": ".py",
   "mimetype": "text/x-python",
   "name": "python",
   "nbconvert_exporter": "python",
   "pygments_lexer": "ipython3",
   "version": "3.9.5"
  }
 },
 "nbformat": 4,
 "nbformat_minor": 5
}
