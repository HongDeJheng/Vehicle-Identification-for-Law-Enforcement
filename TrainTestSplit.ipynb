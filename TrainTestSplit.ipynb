{
 "cells": [
  {
   "cell_type": "code",
   "execution_count": null,
   "id": "e1aa5857",
   "metadata": {},
   "outputs": [],
   "source": [
    "from sklearn.model_selection import train_test_split\n",
    "\n",
    "def TrainTestSplit(pytorchYolo_dir, output_path):\n",
    "    data = open(pytorchYolo_dir).readlines()\n",
    "    train, test = train_test_split(data, test_size = 0.2)\n",
    "    print(\"trainging set size: \", len(train))\n",
    "    print(\"  testing set size: \", len(test))\n",
    "\n",
    "    sets = {'train': train, 'test': test}\n",
    "\n",
    "    for _, (k, v) in enumerate(sets.items()):\n",
    "        filename = output_path + '/' + k + '.txt'\n",
    "        f = open(filename, 'w')\n",
    "        for ele in v:\n",
    "            f.write(ele)\n",
    "        f.close()"
   ]
  },
  {
   "cell_type": "code",
   "execution_count": 1,
   "id": "8ba8aeeb",
   "metadata": {},
   "outputs": [],
   "source": [
    "from sklearn.model_selection import train_test_split\n",
    "import shutil\n",
    "import os\n",
    "\n",
    "'''\n",
    "@dataset_dir: where images store\n",
    "@label_dir  : where label store\n",
    "@ouput_dir  : where you want to output\n",
    "'''\n",
    "def TrainTestSplitWithCopy(dataset_dir, label_dir, output_dir, split_size, hasValidSet):\n",
    "    data = []\n",
    "    for root, dirs, files in os.walk(dataset_dir):\n",
    "        for name in files:\n",
    "            data.append(name)\n",
    "            \n",
    "    train, test = train_test_split(data, test_size = split_size / 100)\n",
    "    print(\" Trainging set size: \", len(train))\n",
    "    \n",
    "    sets = {}\n",
    "    sets['train_' + str(100 - split_size)] = train\n",
    "    \n",
    "    if not os.path.exists(output_dir):\n",
    "        os.mkdir(output_dir)\n",
    "    \n",
    "    if hasValidSet:\n",
    "        # default split half of test set into validation set\n",
    "        test, valid = train_test_split(test, test_size = 0.5)\n",
    "        print(\"   Testing set size: \", len(test))\n",
    "        print(\"Validation set size: \", len(test))\n",
    "        sets['test_'  + str(int(split_size // 2))] = test\n",
    "        sets['valid_' + str(int(split_size // 2))] = valid\n",
    "    else:\n",
    "        print(\"   Testing set size: \", len(test))\n",
    "        sets['test_' + str(int(split_size))] = test\n",
    "        \n",
    "    print(\"  Training set dir : \", os.path.join(output_dir, 'train_' + str(100 - split_size)))\n",
    "    \n",
    "    if hasValidSet:\n",
    "        print(\"   Testing set dir : \", os.path.join(output_dir, 'test_'  + str(int(split_size // 2))))\n",
    "        print(\"Validation set dir : \", os.path.join(output_dir, 'valid_' + str(int(split_size // 2))))\n",
    "    else:\n",
    "        print(\"   Testing set dir : \", os.path.join(output_dir, 'test_' + str(int(split_size))))\n",
    "        \n",
    "    for _, (set_name, set_data) in enumerate(sets.items()):\n",
    "        path = os.path.join(output_dir, set_name)\n",
    "        if not os.path.exists(path):\n",
    "            os.mkdir(path)\n",
    "            \n",
    "        for img_filename in set_data:\n",
    "            shutil.copy(os.path.join(dataset_dir, img_filename), \n",
    "                        os.path.join(path, img_filename))\n",
    "            shutil.copy(os.path.join(label_dir, img_filename.replace('.jpg', '.txt')), \n",
    "                        os.path.join(path, img_filename.replace('.jpg', '.txt')))\n",
    "    print(\"\\nDone!\")"
   ]
  },
  {
   "cell_type": "code",
   "execution_count": 3,
   "id": "ba902492",
   "metadata": {},
   "outputs": [
    {
     "name": "stdout",
     "output_type": "stream",
     "text": [
      " Trainging set size:  12948\n",
      "   Testing set size:  1618\n",
      "Validation set size:  1618\n",
      "  Training set dir :  data/train_80\n",
      "   Testing set dir :  data/test_10\n",
      "Validation set dir :  data/valid_10\n",
      "\n",
      "Done!\n"
     ]
    }
   ],
   "source": [
    "TrainTestSplitWithCopy('car_ims/', 'bbox/yolov5/', 'data/', 20, True)"
   ]
  },
  {
   "cell_type": "code",
   "execution_count": null,
   "id": "a47136dc",
   "metadata": {},
   "outputs": [],
   "source": []
  }
 ],
 "metadata": {
  "kernelspec": {
   "display_name": "Python 3 (ipykernel)",
   "language": "python",
   "name": "python3"
  },
  "language_info": {
   "codemirror_mode": {
    "name": "ipython",
    "version": 3
   },
   "file_extension": ".py",
   "mimetype": "text/x-python",
   "name": "python",
   "nbconvert_exporter": "python",
   "pygments_lexer": "ipython3",
   "version": "3.9.5"
  }
 },
 "nbformat": 4,
 "nbformat_minor": 5
}
